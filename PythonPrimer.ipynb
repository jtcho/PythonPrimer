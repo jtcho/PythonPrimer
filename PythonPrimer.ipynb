{
 "cells": [
  {
   "cell_type": "markdown",
   "metadata": {},
   "source": [
    "## Starting with Python: An Interactive Notebook\n",
    "\n",
    "*Author: JT Cho ([jonathan.t.cho@gmail.com](mailto:jonathan.t.cho@gmail.com))*\n",
    "\n",
    "This is an interactive notebook designed to showcase the key features and nuances of **Python 2.x**. \n",
    "If you are unfamiliar with how Python works, be sure to read or skim through the following sections!\n",
    "\n",
    "This content is adapted from Chapter 2 of Joel Grus's \"Data Science from Scratch\" and \"[Learn X in Y minutes](https://learnxinyminutes.com/docs/python/).\"\n",
    "\n",
    "### Using this Notebook\n",
    "For the code cells (with `In [ ]`) next to them, press <kbd>Shift</kbd> + <kbd>Enter</kbd> in the selected cell to evaluate it!"
   ]
  },
  {
   "cell_type": "markdown",
   "metadata": {},
   "source": [
    "### The Basics\n",
    "\n",
    "Syntax, arithmetic, logic operations, variables."
   ]
  },
  {
   "cell_type": "code",
   "execution_count": null,
   "metadata": {
    "collapsed": true
   },
   "outputs": [],
   "source": [
    "# This is a single-line comment. Documenting your code is important!"
   ]
  },
  {
   "cell_type": "code",
   "execution_count": null,
   "metadata": {
    "collapsed": false
   },
   "outputs": [],
   "source": [
    "# You can do typical math with numbers...\n",
    "\n",
    "print 3 * 7      # 21\n",
    "print 1 + 1      # 2\n",
    "print 4.2 + 5.8  # 10.0"
   ]
  },
  {
   "cell_type": "code",
   "execution_count": null,
   "metadata": {
    "collapsed": false
   },
   "outputs": [],
   "source": [
    "# Division is a little different. \n",
    "# Normal division with integers will truncate the decimal off the result.\n",
    "\n",
    "print 10 / 3    # 3"
   ]
  },
  {
   "cell_type": "code",
   "execution_count": null,
   "metadata": {
    "collapsed": false
   },
   "outputs": [],
   "source": [
    "# If you use a floating point number, using / will preserve the decimal.\n",
    "# The // operator is the integer division operator, and will always truncate \n",
    "# even if the arguments are floats.\n",
    "\n",
    "print 7.2 / 3   # 2.4    (floating point)\n",
    "print 7.2 // 3  # 2      (integer)"
   ]
  },
  {
   "cell_type": "code",
   "execution_count": null,
   "metadata": {
    "collapsed": false
   },
   "outputs": [],
   "source": [
    "# It is recommended that you use the following to make the / operator always \n",
    "# use floating point division. This line overwrites the division operator\n",
    "# with the the new-and-improved division operator from Python 3.\n",
    "# Note that evaluating this cell will cause the entire notebook to use the \n",
    "# redefined /.\n",
    "from __future__ import division\n",
    "\n",
    "print 5 / 2     # 2.5"
   ]
  },
  {
   "cell_type": "code",
   "execution_count": null,
   "metadata": {
    "collapsed": false
   },
   "outputs": [],
   "source": [
    "# You can also do some other fancy operations.\n",
    "\n",
    "print 4 % 2     # 0 (modulus/remainder)\n",
    "print 2 ** 3    # 8 (exponent)\n",
    "print (1 + 2)*3 # 9 (grouping with parentheses)"
   ]
  },
  {
   "cell_type": "code",
   "execution_count": null,
   "metadata": {
    "collapsed": false
   },
   "outputs": [],
   "source": [
    "# Booleans are represented as `True` or `False`.\n",
    "# The Boolean operators `and` + `or` are case sensitive.\n",
    "\n",
    "print True and False # False\n",
    "print True or True   # True\n",
    "print not True       # False"
   ]
  },
  {
   "cell_type": "code",
   "execution_count": null,
   "metadata": {
    "collapsed": false
   },
   "outputs": [],
   "source": [
    "# All of your standard comparison operations are here, too.\n",
    "\n",
    "print 2 == 3    # False\n",
    "print 7 != 4    # True\n",
    "print 6 < 2     # False\n",
    "print 2 <= 2    # True\n",
    "print 13 > 1    # True\n",
    "print 12 >= 15  # False"
   ]
  },
  {
   "cell_type": "code",
   "execution_count": null,
   "metadata": {
    "collapsed": false
   },
   "outputs": [],
   "source": [
    "# You can chain comparisons.\n",
    "\n",
    "print 1 < 2 < 3 # True\n",
    "print 4 < 2 < 3 # False"
   ]
  },
  {
   "cell_type": "code",
   "execution_count": null,
   "metadata": {
    "collapsed": false
   },
   "outputs": [],
   "source": [
    "# Variable definitions are simple. Notice how variables don't have a type.\n",
    "# Python is dynamically-typed - so a single variable `x` could have an \n",
    "# integer, String, etc. assigned to it!\n",
    "\n",
    "x = 2\n",
    "y = 3\n",
    "print x + y     # 5"
   ]
  },
  {
   "cell_type": "code",
   "execution_count": null,
   "metadata": {
    "collapsed": false
   },
   "outputs": [],
   "source": [
    "# Note that because Python is dynamically typed, we can change the type\n",
    "# of a variable by redefining it (something you cannot do in, say, Java). \n",
    "# For instance, we can easily change x from an `int` to a `float` \n",
    "# (or even a `string`)! Keep this in mind when programming in Python, \n",
    "# as it can potentially lead to bugs!\n",
    "print type(x)\n",
    "x = 2.5\n",
    "print type(x)\n",
    "print x + y     # 5.5"
   ]
  },
  {
   "cell_type": "markdown",
   "metadata": {},
   "source": [
    "### Types and Functions\n",
    "Strings, lists, sets, dicts, functions, and lambdas."
   ]
  },
  {
   "cell_type": "code",
   "execution_count": null,
   "metadata": {
    "collapsed": true
   },
   "outputs": [],
   "source": [
    "# Strings are delimited by single or double quotation marks (the quotes \n",
    "# must match).\n",
    "\n",
    "single_quotes = 'cis700'\n",
    "double_quotes = \"rocks\""
   ]
  },
  {
   "cell_type": "code",
   "execution_count": null,
   "metadata": {
    "collapsed": false
   },
   "outputs": [],
   "source": [
    "# Use len(str) to compute the length of a string.\n",
    "\n",
    "len(\"foo\")      # 3"
   ]
  },
  {
   "cell_type": "code",
   "execution_count": null,
   "metadata": {
    "collapsed": false
   },
   "outputs": [],
   "source": [
    "# Backslashes `\\` are used to escape special characters.\n",
    "\n",
    "tab_string = \"\\t\"\n",
    "len(tab_string) # 1"
   ]
  },
  {
   "cell_type": "code",
   "execution_count": null,
   "metadata": {
    "collapsed": false
   },
   "outputs": [],
   "source": [
    "# You can create raw strings using `r\"\"` to treat the backslash as a \n",
    "# regular character.\n",
    "\n",
    "not_tab_string = r\"\\t\"\n",
    "len(not_tab_string)    # 2"
   ]
  },
  {
   "cell_type": "code",
   "execution_count": null,
   "metadata": {
    "collapsed": false
   },
   "outputs": [],
   "source": [
    "# You can create multiline strings using triple double quotes.\n",
    "\n",
    "multi_line_string = \"\"\"First line\n",
    "  second line with space\n",
    "\\tthird line with tab\n",
    "\"\"\"\n",
    "print multi_line_string"
   ]
  },
  {
   "cell_type": "code",
   "execution_count": null,
   "metadata": {
    "collapsed": false
   },
   "outputs": [],
   "source": [
    "# You can format simple strings using % or .format().\n",
    "\n",
    "print \"%s has gone missing!\" % (\"Will Byers\") \n",
    "print \"His friends are %s, %s, and %s.\" % (\"Mike\", \"Dustin\", \"Lucas\") \n",
    "\n",
    "print \"They live in {}, {}.\".format(\"Hawkins\", \"Indiana\")\n",
    "print \"The chief of police's name is {firstName} {lastName}.\".format(firstName=\"Jim\", lastName=\"Hopper\")"
   ]
  },
  {
   "cell_type": "code",
   "execution_count": null,
   "metadata": {
    "collapsed": false
   },
   "outputs": [],
   "source": [
    "# Lists in Python are kind of like Java/C arrays with extra functionality.\n",
    "# Since Python is dynamically typed, a list is not restricted to containing\n",
    "# a single type like in Java/C!\n",
    "\n",
    "integer_list = [1, 2, 3]\n",
    "heterogeneous_list = [\"string\", 0.1, True]\n",
    "list_of_lists = [integer_list, heterogeneous_list, []]\n",
    "\n",
    "# Use len(list) to compute the length of a list.\n",
    "print len(integer_list)  # 3\n",
    "\n",
    "# Use `sum(list)` to compute the sum of a list of numeral types.\n",
    "print sum(integer_list)  # 6"
   ]
  },
  {
   "cell_type": "code",
   "execution_count": null,
   "metadata": {
    "collapsed": false
   },
   "outputs": [],
   "source": [
    "# You can use `xrange(x)` to generate the list [0, 1, ..., x-1].\n",
    "# Square brackets [] are used to access the n'th element of a list.\n",
    "# Lists in Python are 0-indexed (the first element is at index 0).\n",
    "\n",
    "x = range(10)\n",
    "print x         # [0, 1, 2, 3, 4, 5, 6, 7, 8, 9]\n",
    "print x[0]      # 0\n",
    "print x[1]      # 1\n",
    "\n",
    "# You can index \"backwards\". The -1'th element is the last element in the \n",
    "# list.\n",
    "print x[-1]     # 9\n",
    "print x[-2]     # 8\n",
    "\n",
    "# Lists are mutable. You can change their contents!\n",
    "x[0] = -1\n",
    "print x[0]      # -1"
   ]
  },
  {
   "cell_type": "code",
   "execution_count": null,
   "metadata": {
    "collapsed": false
   },
   "outputs": [],
   "source": [
    "# You can use [:] notation to slice a list.\n",
    "\n",
    "x = range(10)   # [0, 1, 2, 3, 4, 5, 6, 7, 8, 9]\n",
    "print x[:3]     # [0, 1, 2]\n",
    "print x[3:]     # [3, 4, 5, 6, 7, 8, 9]\n",
    "print x[1:4]    # [1, 2, 3]\n",
    "print x[1:-1]   # [1, 2, 3, 4, 5, 6, 7, 8]\n",
    "print x[:]      # [0, 1, 2, 3, 4, 5, 6, 7, 8, 9] (copy)"
   ]
  },
  {
   "cell_type": "code",
   "execution_count": null,
   "metadata": {
    "collapsed": false
   },
   "outputs": [],
   "source": [
    "# Use the `in` operator to check list membership.\n",
    "\n",
    "3 in range(10)  # True"
   ]
  },
  {
   "cell_type": "code",
   "execution_count": null,
   "metadata": {
    "collapsed": false
   },
   "outputs": [],
   "source": [
    "# Use `.extend()` to concatenate lists (modifies the original list).\n",
    "\n",
    "x = [1, 2, 3]\n",
    "x.extend([4, 5, 6])\n",
    "print x         # [1, 2, 3, 4, 5, 6]\n",
    "\n",
    "# Use + to concatenate lists without modification.\n",
    "\n",
    "y = [1, 2, 3]\n",
    "y + [4, 5, 6]\n",
    "print y         # [1, 2, 3]\n",
    "\n",
    "# Use `.append()` to add a single element to the end of a list.\n",
    "y.append(4)\n",
    "print y         # [1, 2, 3, 4]\n",
    "\n",
    "# You can \"unpack\" a list into named variables. \n",
    "# Note that you need to have the same number of variables on the left as \n",
    "# elements in the list.\n",
    "x, y = [2, 4]\n",
    "print x         # 2\n",
    "print y         # 4\n",
    "\n",
    "# It is convention to use _ as a variable name for variables you want to \n",
    "# discard.\n",
    "_, important = [\"foo\", \"bar\"]\n",
    "print important # \"bar\""
   ]
  },
  {
   "cell_type": "code",
   "execution_count": null,
   "metadata": {
    "collapsed": false
   },
   "outputs": [],
   "source": [
    "# Since strings are essentially arrays of characters, we can do all\n",
    "# the same things with strings!\n",
    "hello = \"Hello, world!\"\n",
    "print hello[0]     # 'H' \n",
    "print hello[0:5]   # \"Hello\"\n",
    "print hello[-1]    # \"!\"\n",
    "print hello + \" Python is awesome!\" # \"Hello, world! Python is awesome!\""
   ]
  },
  {
   "cell_type": "code",
   "execution_count": null,
   "metadata": {
    "collapsed": false
   },
   "outputs": [],
   "source": [
    "# We can also concatenate strings and numbers by using the `str`\n",
    "# function to convert the number to a string.\n",
    "e = 2.71828\n",
    "print 'The value of e is approximately ' + str(e)"
   ]
  },
  {
   "cell_type": "code",
   "execution_count": null,
   "metadata": {
    "collapsed": false
   },
   "outputs": [],
   "source": [
    "# Use `def` to define functions.\n",
    "# Notice how there are no curly braces like in C-style languages.\n",
    "# Python uses indentation to delimit blocks of code.\n",
    "\n",
    "def foo():\n",
    "    print \"Hello, world!\"\n",
    "    \n",
    "foo()                # \"Hello, world!\"\n",
    "\n",
    "def add(x, y):\n",
    "    print x + y\n",
    "\n",
    "add(2, 4)            # 6\n",
    "\n",
    "# You can even define functions with default values.\n",
    "\n",
    "def addWithDefault(x, y=0):\n",
    "    print x + y\n",
    "    \n",
    "addWithDefault(2)    # 2"
   ]
  },
  {
   "cell_type": "code",
   "execution_count": null,
   "metadata": {
    "collapsed": false
   },
   "outputs": [],
   "source": [
    "# Functions are first class citizens. You can assign a function to a \n",
    "# variable and pass it around.\n",
    "\n",
    "def foo(x):\n",
    "    return x + 20\n",
    "\n",
    "mystery = foo\n",
    "\n",
    "print mystery(80)                   # 100\n",
    "\n",
    "def apply_to_one(f):\n",
    "    return f(1)                     # 21\n",
    "\n",
    "print apply_to_one(mystery)\n",
    "\n",
    "# You can create lambda functions in Python.\n",
    "\n",
    "print apply_to_one(lambda x: x + 9) # 10\n",
    "\n",
    "# Instead of assigning a lambda to a variable, you should just use `def`. \n",
    "def double(x): return 2 * x\n",
    "\n",
    "print apply_to_one(double)          # 2"
   ]
  },
  {
   "cell_type": "code",
   "execution_count": null,
   "metadata": {
    "collapsed": false
   },
   "outputs": [],
   "source": [
    "# Tuples are like lists, except you can't modify their contents. \n",
    "# They're immutable.\n",
    "# Trying to change a tuple's contents will throw an exception.\n",
    "# You can specify a tuple by using parentheses (or nothing) \n",
    "# instead of square brackets.\n",
    "\n",
    "x = (1, 2, 3)\n",
    "\n",
    "try:\n",
    "    x[0] = 1\n",
    "except TypeError: \n",
    "    print \"You can't change the value of a tuple!\"\n",
    "    \n",
    "# You can use a tuple to return multiple values from functions.\n",
    "\n",
    "def sum_and_product(x, y):\n",
    "    return (x + y), (x * y)\n",
    "\n",
    "print sum_and_product(2, 3)\n",
    "s, p = sum_and_product(4, 5)\n",
    "print s\n",
    "print p\n",
    "\n",
    "# Tuples and lists can be used for multiple assignments.\n",
    "x, y = 1, 2\n",
    "x, y = y, x    # The Pythonic way of swapping variables."
   ]
  },
  {
   "cell_type": "code",
   "execution_count": null,
   "metadata": {
    "collapsed": false
   },
   "outputs": [],
   "source": [
    "# Dictionaries are Python's key-value data structures,\n",
    "# and are often used to store structured data.\n",
    "\n",
    "empty_dict = {}      # Pythonic\n",
    "empty_dict2 = dict() # Less Pythonic\n",
    "grades = { \"JT\": 80, \"Trevin\": 95, \"Brady\": 100 }\n",
    "\n",
    "# You can access the value for a particular key using square brackets [].\n",
    "\n",
    "print grades[\"JT\"]              # 80\n",
    "\n",
    "# Python raises a KeyError if you try to access a non-existent key.\n",
    "\n",
    "try:\n",
    "    print grades[\"Zachary\"]\n",
    "except KeyError:\n",
    "    print \"No grade for Zachary!\"\n",
    "    \n",
    "# Existence of a key can be checked using `in`.\n",
    "\n",
    "print \"Brady\" in grades         # True\n",
    "\n",
    "# Use the .get(key, default_val) dictionary function to safely return a default\n",
    "# value instead of raising an exception.\n",
    "\n",
    "print grades.get(\"Zachary\", 0)  # 0\n",
    "print grades.get(\"Nobody\")      # None\n",
    "\n",
    "# Use the .keys() and .values() methods to get a list of keys/values.\n",
    "print grades.keys()\n",
    "print grades.values()\n",
    "\n",
    "# Note that using `in` on the key list is much slower than the dict's `in`. \n",
    "# Python's dict is an implementation of a hash table. Hashing typically \n",
    "# performs much better than a linear list search.\n",
    "\n",
    "print \"Trevin\" in grades        # True | Fast in\n",
    "print \"Trevin\" in grades.keys() # True | Slow in"
   ]
  },
  {
   "cell_type": "code",
   "execution_count": null,
   "metadata": {
    "collapsed": false
   },
   "outputs": [],
   "source": [
    "# Dictionary keys must be immutable. You can not use a list as a key.\n",
    "# Multi-part keys can be achieved using tuples (or another method\n",
    "# e.g. by turning the key into a string).\n",
    "\n",
    "try:\n",
    "    bad_dict = {[\"Will\", \"21532\"]:\"Student\", [\"Jim\", \"92104\"]:\"Police Chief\"}\n",
    "except TypeError:\n",
    "    print \"Can't use a mutable type as a key!\"\n",
    "\n",
    "ok_dict = {(\"Will\", \"21532\"): \"Student\", (\"Jim\", \"92104\"): \"Police Chief\"}"
   ]
  },
  {
   "cell_type": "code",
   "execution_count": null,
   "metadata": {
    "collapsed": false
   },
   "outputs": [],
   "source": [
    "# If you want your dictionary to have the same initial value for non-existent keys,\n",
    "# use a defaultdict (e.g. word counts)\n",
    "\n",
    "from collections import defaultdict\n",
    "\n",
    "document = [\"The\", \"quick\", \"brown\", \"fox\", \"jumped\", \"over\", \"the\", \"lazy\", \"dog\"]\n",
    "\n",
    "word_counts = defaultdict(int)      # int() produces 0\n",
    "for word in document:\n",
    "    word_counts[word.lower()] += 1\n",
    "    \n",
    "coords = defaultdict(lambda: [0,0]) # Default value will be [0,0]."
   ]
  },
  {
   "cell_type": "code",
   "execution_count": null,
   "metadata": {
    "collapsed": false,
    "scrolled": true
   },
   "outputs": [],
   "source": [
    "# Sets represent a collection of distinct elements.\n",
    "\n",
    "cities = set()\n",
    "cities.add(\"San Francisco\")\n",
    "cities.add(\"Philadelphia\")\n",
    "cities.add(\"New York\")\n",
    "cities.add(\"Philadelphia\")\n",
    "print cities              # set(['San Francisco', 'New York', 'Philadelphia'])\n",
    "\n",
    "names = set([\"Alice\", \"Bob\", \"Charlie\", \"Alice\", \"David\", \"Emily\"])\n",
    "print names               # set(['Charlie', 'Bob', 'Emily', 'Alice', 'David'])\n",
    "\n",
    "# Checking set membership is a lot faster than list membership.\n",
    "print \"Alice\" in names    # True\n",
    "print \"George\" in names   # False"
   ]
  },
  {
   "cell_type": "markdown",
   "metadata": {},
   "source": [
    "### Control Flow and Exceptions"
   ]
  },
  {
   "cell_type": "code",
   "execution_count": null,
   "metadata": {
    "collapsed": false
   },
   "outputs": [],
   "source": [
    "# Python supports if/else blocks.\n",
    "\n",
    "if 1 > 2:\n",
    "    message = \"if only 1 > 2\"\n",
    "elif 1 > 3:\n",
    "    message = \"elif stands for 'else if'\"\n",
    "else:\n",
    "    message = \"when all else fails, you may use an else (but don't have to)\"\n",
    "    \n",
    "print message   # when all else fails, you may use an else (but don't have to)\n",
    "\n",
    "# Python also supports a ternary if-then-else on a single line.\n",
    "parity = \"even\" if 10 % 2 == 0 else \"odd\"\n",
    "print parity    # even"
   ]
  },
  {
   "cell_type": "code",
   "execution_count": null,
   "metadata": {
    "collapsed": false
   },
   "outputs": [],
   "source": [
    "# Python also has `while` loops.\n",
    "print \"While loop:\"\n",
    "x = 0\n",
    "while x < 10:\n",
    "    print x, \"is less than 10\"\n",
    "    x += 1"
   ]
  },
  {
   "cell_type": "code",
   "execution_count": null,
   "metadata": {
    "collapsed": false
   },
   "outputs": [],
   "source": [
    "# We'll typically use `for` and `in`, though.\n",
    "print \"\\nFor-in loop\"\n",
    "for x in xrange(10):\n",
    "    print x, \"is less than 10\"\n",
    "    \n",
    "# You can also use `continue` and `break`.\n",
    "print \"\\nFor-in loop with break/continue\"\n",
    "for x in xrange(10):\n",
    "    if x == 3:\n",
    "        continue    # go immediately to the next iteration\n",
    "    if x == 5:\n",
    "        break       # quit the loop entirely\n",
    "    print x"
   ]
  },
  {
   "cell_type": "markdown",
   "metadata": {},
   "source": [
    "### Truthiness"
   ]
  },
  {
   "cell_type": "markdown",
   "metadata": {},
   "source": [
    "### List Comprehensions"
   ]
  },
  {
   "cell_type": "markdown",
   "metadata": {},
   "source": [
    "### Generators and Iterators"
   ]
  },
  {
   "cell_type": "code",
   "execution_count": null,
   "metadata": {
    "collapsed": false
   },
   "outputs": [],
   "source": [
    "# Lists can grow very large. Using `range(1000000)` creates an actual list \n",
    "# of a million elements!\n",
    "for i in range(1000000):\n",
    "    pass\n",
    "\n",
    "# In Python, a generator is something you can iterate over (e.g. `for`) but \n",
    "# whose values are produced only as needed, or lazily.\n",
    "# In Python 2.x, `xrange(n)` is a generator that gives the sequence \n",
    "# [0, 1, 2...., n-1] without creating the whole list.\n",
    "for i in xrange(100000):\n",
    "    pass\n",
    "\n",
    "# A simple lazy generator can also be built as follows:\n",
    "\n",
    "def lazy_range(n):\n",
    "    \"\"\"A lazy version of range.\"\"\"\n",
    "    i = 0\n",
    "    while i < n:\n",
    "        yield i\n",
    "        i += 1\n",
    "\n",
    "# Calling lazy_range(n) does not cause the entire content of the while\n",
    "# loop to evaluate at once. The use of the `yield` keyword gives the\n",
    "# elements of the generator sequence.\n",
    "        \n",
    "print \"lazy_range(10)\"\n",
    "for i in lazy_range(10):\n",
    "    print i\n",
    "\n",
    "# Generators are useful - they allow us to even create infinite sequences!\n",
    "# However, you can not rewind a generator. To get previous elements in a\n",
    "# sequence, you'd have to create a new generator and iterate through that.\n",
    "\n",
    "# You can also create generators using a for comprehension wrapped in parentheses:\n",
    "\n",
    "lazy_evens_below = lambda n: (i for i in xrange(n) if i % 2 == 0)\n",
    "\n",
    "print \"lazy_evens_below(20)\"\n",
    "for i in lazy_evens_below(20):\n",
    "    print i"
   ]
  },
  {
   "cell_type": "markdown",
   "metadata": {},
   "source": [
    "### Functional Programming Tools"
   ]
  },
  {
   "cell_type": "code",
   "execution_count": null,
   "metadata": {
    "collapsed": false
   },
   "outputs": [],
   "source": [
    "# Python supports partialization (currying) of functions.\n",
    "\n",
    "def exp(base, power):\n",
    "    return base ** power\n",
    "\n",
    "from functools import partial\n",
    "two_to_the = partial(exp, 2)   # equivalent to defining a function: `return exp(2, power)`\n",
    "print two_to_the(3)            # 8\n",
    "\n",
    "# You can specific argument names to target later arguments.\n",
    "square_of = partial(exp, power=2)\n",
    "print square_of(3)             # 9\n",
    "\n",
    "# Try to avoid currying arguments in the middle of functions, as it can get messy!"
   ]
  },
  {
   "cell_type": "code",
   "execution_count": null,
   "metadata": {
    "collapsed": false
   },
   "outputs": [],
   "source": [
    "#Python also supports `map`, `reduce`, and `filter`.\n",
    "\n",
    "def double(x):\n",
    "    return 2 * x\n",
    "\n",
    "xs = [1, 2, 3, 4]\n",
    "twice_xs = map(double, xs)           # equivalent to `[double(x) for x in xs]`\n",
    "print twice_xs                       # [2, 4, 6, 8]\n",
    "\n",
    "list_doubler = partial(map, double)\n",
    "print list_doubler(xs)               # [2, 4, 6, 8]\n",
    "\n",
    "# You can use `map` with multiple-argument functions if you provide multiple lists.\n",
    "def mult(x, y): return x * y\n",
    "\n",
    "pairwise_prods = map(mult, [1, 2, 3], [4, 5, 6])\n",
    "print pairwise_prods                 # [4, 10, 18]\n",
    "\n",
    "def dot_prod(u, v):\n",
    "    return sum(map(mult, u, v))\n",
    "\n",
    "print dot_prod([1, 2, 3], [4, 5, 6]) # 32"
   ]
  },
  {
   "cell_type": "code",
   "execution_count": null,
   "metadata": {
    "collapsed": false
   },
   "outputs": [],
   "source": [
    "# You can use `filter` as shorthand for a list-comprehension `if`.\n",
    "\n",
    "def is_even(x):\n",
    "    return x % 2 == 0\n",
    "\n",
    "xs = [1, 2, 3, 4]\n",
    "x_evens = filter(is_even, xs)        # equivalent to [x for x in xs if is_even(x)]\n",
    "print x_evens                        # [2, 4]\n",
    "\n",
    "list_evener = partial(filter, is_even)\n",
    "print list_evener(xs)                # [2, 4]"
   ]
  },
  {
   "cell_type": "code",
   "execution_count": null,
   "metadata": {
    "collapsed": false
   },
   "outputs": [],
   "source": [
    "# `reduce` combines the first two elements of a list using some two argument \n",
    "# function, then that result with the third, and so fourth, until \n",
    "# only one element remains.\n",
    "\n",
    "xs = [1, 2, 3, 4]\n",
    "def mult(x, y): return x * y\n",
    "\n",
    "x_product = reduce(mult, xs)\n",
    "print x_product             # 24\n",
    "\n",
    "list_product = partial(reduce, mult)\n",
    "print list_product(xs)      # 24"
   ]
  },
  {
   "cell_type": "code",
   "execution_count": null,
   "metadata": {
    "collapsed": true
   },
   "outputs": [],
   "source": []
  }
 ],
 "metadata": {
  "kernelspec": {
   "display_name": "Python 2",
   "language": "python",
   "name": "python2"
  },
  "language_info": {
   "codemirror_mode": {
    "name": "ipython",
    "version": 2
   },
   "file_extension": ".py",
   "mimetype": "text/x-python",
   "name": "python",
   "nbconvert_exporter": "python",
   "pygments_lexer": "ipython2",
   "version": "2.7.10"
  }
 },
 "nbformat": 4,
 "nbformat_minor": 2
}
