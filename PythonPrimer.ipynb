{
 "cells": [
  {
   "cell_type": "markdown",
   "metadata": {},
   "source": [
    "## Starting with Python: An Interactive Notebook\n",
    "\n",
    "This is an interactive notebook designed to showcase the key features and nuances of **Python 2.x**. \n",
    "If you are unfamiliar with how Python works, be sure to read or skim through the following sections!\n",
    "\n",
    "This content is adapted from Chapter 2 of Joel Grus's \"Data Science from Scratch\" and \"[Learn X in Y minutes](https://learnxinyminutes.com/docs/python/).\"\n",
    "\n",
    "### Using this Notebook\n",
    "For the code cells (with `In [ ]`) next to them, press <kbd>Shift</kbd> + <kbd>Enter</kbd> in the selected cell to evaluate it!"
   ]
  },
  {
   "cell_type": "markdown",
   "metadata": {},
   "source": [
    "### The Basics\n",
    "\n",
    "Syntax, arithmetic, logic operations, variables."
   ]
  },
  {
   "cell_type": "code",
   "execution_count": null,
   "metadata": {
    "collapsed": true
   },
   "outputs": [],
   "source": [
    "# This is a single-line comment. Documenting your code is important!"
   ]
  },
  {
   "cell_type": "code",
   "execution_count": null,
   "metadata": {
    "collapsed": false
   },
   "outputs": [],
   "source": [
    "# You can do typical math with numbers...\n",
    "\n",
    "print 3 * 7      # 21\n",
    "print 1 + 1      # 2\n",
    "print 4.2 + 5.8  # 10.0"
   ]
  },
  {
   "cell_type": "code",
   "execution_count": null,
   "metadata": {
    "collapsed": false
   },
   "outputs": [],
   "source": [
    "# Division is a little different. \n",
    "# Normal division with integers will truncate the decimal off the result.\n",
    "\n",
    "print 10 / 3    # 3"
   ]
  },
  {
   "cell_type": "code",
   "execution_count": null,
   "metadata": {
    "collapsed": false
   },
   "outputs": [],
   "source": [
    "# If you use a floating point number, using / will preserve the decimal.\n",
    "# The // operator is the integer division operator, and will always truncate even if the arguments are floats.\n",
    "\n",
    "print 7.2 / 3   # 2.4    (floating point)\n",
    "print 7.2 // 3  # 2      (integer)"
   ]
  },
  {
   "cell_type": "code",
   "execution_count": null,
   "metadata": {
    "collapsed": false
   },
   "outputs": [],
   "source": [
    "# It is recommended that you use the following to make the / operator always use floating point division.\n",
    "# Note that evaluating this cell will cause the entire notebook to use the redefined /.\n",
    "from __future__ import division\n",
    "\n",
    "print 5 / 2     # 2.5"
   ]
  },
  {
   "cell_type": "code",
   "execution_count": null,
   "metadata": {
    "collapsed": false
   },
   "outputs": [],
   "source": [
    "# You can also do some other fancy operations.\n",
    "\n",
    "print 4 % 2     # 0 (modulus/remainder)\n",
    "print 2 ** 3    # 8 (exponent)\n",
    "print (1 + 2)*3 # 9 (grouping with parentheses)"
   ]
  },
  {
   "cell_type": "code",
   "execution_count": null,
   "metadata": {
    "collapsed": false
   },
   "outputs": [],
   "source": [
    "# Booleans are represented as `True` or `False`.\n",
    "# The Boolean operators `and` + `or` are case sensitive.\n",
    "\n",
    "print True and False # False\n",
    "print True or True   # True\n",
    "print not True       # False"
   ]
  },
  {
   "cell_type": "code",
   "execution_count": null,
   "metadata": {
    "collapsed": false
   },
   "outputs": [],
   "source": [
    "# All of your standard comparison operations are here, too.\n",
    "\n",
    "print 2 == 3    # False\n",
    "print 7 != 4    # True\n",
    "print 6 < 2     # False\n",
    "print 2 <= 2    # True\n",
    "print 13 > 1    # True\n",
    "print 12 >= 15  # False"
   ]
  },
  {
   "cell_type": "code",
   "execution_count": null,
   "metadata": {
    "collapsed": false
   },
   "outputs": [],
   "source": [
    "# You can chain comparisons.\n",
    "\n",
    "print 1 < 2 < 3 # True\n",
    "print 4 < 2 < 3 # False"
   ]
  },
  {
   "cell_type": "code",
   "execution_count": null,
   "metadata": {
    "collapsed": false
   },
   "outputs": [],
   "source": [
    "# Variable definitions are simple. Notice how variables don't have a type.\n",
    "# Python is dynamically-typed - so a single variable `x` could have an integer, String, etc. assigned to it!\n",
    "\n",
    "x = 2\n",
    "y = 3\n",
    "print x + y     # 5"
   ]
  },
  {
   "cell_type": "markdown",
   "metadata": {},
   "source": [
    "### Types and Functions\n",
    "Strings, lists, sets, dicts, functions, and lambdas."
   ]
  },
  {
   "cell_type": "code",
   "execution_count": null,
   "metadata": {
    "collapsed": true
   },
   "outputs": [],
   "source": [
    "# Strings are delimited by single or double quotation marks (the quotes must match).\n",
    "\n",
    "single_quotes = 'cis700'\n",
    "double_quotes = \"rocks\""
   ]
  },
  {
   "cell_type": "code",
   "execution_count": null,
   "metadata": {
    "collapsed": false
   },
   "outputs": [],
   "source": [
    "# Use len(str) to compute the length of a string.\n",
    "\n",
    "len(\"foo\")      # 3"
   ]
  },
  {
   "cell_type": "code",
   "execution_count": null,
   "metadata": {
    "collapsed": false
   },
   "outputs": [],
   "source": [
    "# Backslashes `\\` are used to escape special characters.\n",
    "\n",
    "tab_string = \"\\t\"\n",
    "len(tab_string) # 1"
   ]
  },
  {
   "cell_type": "code",
   "execution_count": null,
   "metadata": {
    "collapsed": false
   },
   "outputs": [],
   "source": [
    "# You can create raw strings using `r\"\"` to treat the backslash as a regular character.\n",
    "\n",
    "not_tab_string = r\"\\t\"\n",
    "len(not_tab_string)    # 2"
   ]
  },
  {
   "cell_type": "code",
   "execution_count": null,
   "metadata": {
    "collapsed": false
   },
   "outputs": [],
   "source": [
    "# You can create multiline strings using triple double quotes.\n",
    "\n",
    "multi_line_string = \"\"\"First line\n",
    "  second line with space\n",
    "\\tthird line with tab\n",
    "\"\"\"\n",
    "print multi_line_string"
   ]
  },
  {
   "cell_type": "code",
   "execution_count": null,
   "metadata": {
    "collapsed": false
   },
   "outputs": [],
   "source": [
    "# You can format simple strings using % or .format().\n",
    "\n",
    "print \"%s has gone missing!\" % (\"Will Byers\") \n",
    "print \"His friends are %s, %s, and %s.\" % (\"Mike\", \"Dustin\", \"Lucas\") \n",
    "\n",
    "print \"They live in {}, {}.\".format(\"Hawkins\", \"Indiana\")\n",
    "print \"The sheriff's name is {firstName} {lastName}.\".format(firstName=\"Jim\", lastName=\"Hopper\")"
   ]
  },
  {
   "cell_type": "code",
   "execution_count": null,
   "metadata": {
    "collapsed": false
   },
   "outputs": [],
   "source": [
    "# Lists in Python are kind of like Java/C arrays with extra functionality.\n",
    "# Since Python is dynamically typed, a list is not restricted to containing a single type like in Java/C!\n",
    "\n",
    "integer_list = [1, 2, 3]\n",
    "heterogeneous_list = [\"string\", 0.1, True]\n",
    "list_of_lists = [integer_list, heterogeneous_list, []]\n",
    "\n",
    "# Use len(list) to compute the length of a list.\n",
    "print len(integer_list)  # 3\n",
    "\n",
    "# Use `sum(list)` to compute the sum of a list of numeral types.\n",
    "print sum(integer_list)  # 6"
   ]
  },
  {
   "cell_type": "code",
   "execution_count": null,
   "metadata": {
    "collapsed": false
   },
   "outputs": [],
   "source": [
    "# You can use `range(x)` to generate the list [0, 1, ..., x-1].\n",
    "# Square brackets [] are used to access the n'th element of a list.\n",
    "# Lists in Python are 0-indexed (the first element is at index 0).\n",
    "\n",
    "x = range(10)\n",
    "print x         # [0, 1, 2, 3, 4, 5, 6, 7, 8, 9]\n",
    "print x[0]      # 0\n",
    "print x[1]      # 1\n",
    "\n",
    "# You can index \"backwards\". The -1'th element is the last element in the list.\n",
    "print x[-1]     # 9\n",
    "print x[-2]     # 8\n",
    "\n",
    "# Lists are mutable. You can change their contents!\n",
    "x[0] = -1\n",
    "print x[0]      # -1"
   ]
  },
  {
   "cell_type": "code",
   "execution_count": null,
   "metadata": {
    "collapsed": false
   },
   "outputs": [],
   "source": [
    "# You can use [:] notation to slice a list.\n",
    "\n",
    "x = range(10)   # [0, 1, 2, 3, 4, 5, 6, 7, 8, 9]\n",
    "print x[:3]     # [0, 1, 2]\n",
    "print x[3:]     # [3, 4, 5, 6, 7, 8, 9]\n",
    "print x[1:4]    # [1, 2, 3]\n",
    "print x[1:-1]   # [1, 2, 3, 4, 5, 6, 7, 8]\n",
    "print x[:]      # [0, 1, 2, 3, 4, 5, 6, 7, 8, 9] (copy)"
   ]
  },
  {
   "cell_type": "code",
   "execution_count": null,
   "metadata": {
    "collapsed": false
   },
   "outputs": [],
   "source": [
    "# Use the `in` operator to check list membership.\n",
    "\n",
    "3 in range(10)  # True"
   ]
  },
  {
   "cell_type": "code",
   "execution_count": null,
   "metadata": {
    "collapsed": false
   },
   "outputs": [],
   "source": [
    "# Use `.extend()` to concatenate lists (modifies the original list).\n",
    "\n",
    "x = [1, 2, 3]\n",
    "x.extend([4, 5, 6])\n",
    "print x         # [1, 2, 3, 4, 5, 6]\n",
    "\n",
    "# Use + to concatenate lists without modification.\n",
    "\n",
    "y = [1, 2, 3]\n",
    "y + [4, 5, 6]\n",
    "print y         # [1, 2, 3]\n",
    "\n",
    "# Use `.append()` to add a single element to the end of a list.\n",
    "y.append(4)\n",
    "print y         # [1, 2, 3, 4]\n",
    "\n",
    "# You can \"unpack\" a list into named variables. \n",
    "# Note that you need to have the same number of variables on the left as elements in the list.\n",
    "x, y = [2, 4]\n",
    "print x         # 2\n",
    "print y         # 4\n",
    "\n",
    "# It is convention to use _ as a variable name for variables you want to discard.\n",
    "_, important = [\"foo\", \"bar\"]\n",
    "print important #"
   ]
  },
  {
   "cell_type": "code",
   "execution_count": null,
   "metadata": {
    "collapsed": false
   },
   "outputs": [],
   "source": [
    "# Use `def` to define functions.\n",
    "# Notice how there are no curly braces like in C-style languages.\n",
    "# Python uses indentation to delimit blocks of code.\n",
    "\n",
    "def foo():\n",
    "    print \"Hello, world!\"\n",
    "    \n",
    "foo()                # \"Hello, world!\"\n",
    "\n",
    "def add(x, y):\n",
    "    print x + y\n",
    "\n",
    "add(2, 4)            # 6\n",
    "\n",
    "# You can even define functions with default values.\n",
    "\n",
    "def addWithDefault(x, y=0):\n",
    "    print x + y\n",
    "    \n",
    "addWithDefault(2)    # 2"
   ]
  },
  {
   "cell_type": "code",
   "execution_count": null,
   "metadata": {
    "collapsed": false
   },
   "outputs": [],
   "source": [
    "# Functions are first class citizens. You can assign a function to a variable and pass it around.\n",
    "\n",
    "def foo(x):\n",
    "    return x + 20\n",
    "\n",
    "mystery = foo\n",
    "\n",
    "print mystery(80)                   # 100\n",
    "\n",
    "def apply_to_one(f):\n",
    "    return f(1)                     # 21\n",
    "\n",
    "print apply_to_one(mystery)\n",
    "\n",
    "# You can create lambda functions in Python.\n",
    "\n",
    "print apply_to_one(lambda x: x + 9) # 10\n",
    "\n",
    "# Instead of assigning a lambda to a variable, you should just use `def`. \n",
    "def double(x): return 2 * x\n",
    "\n",
    "print apply_to_one(double)          # 2"
   ]
  },
  {
   "cell_type": "code",
   "execution_count": 5,
   "metadata": {
    "collapsed": false
   },
   "outputs": [
    {
     "name": "stdout",
     "output_type": "stream",
     "text": [
      "You can't change the value of a tuple!\n",
      "(5, 6)\n",
      "9\n",
      "20\n"
     ]
    }
   ],
   "source": [
    "# Tuples are like lists, except you can't modify their contents. They're immutable.\n",
    "# Trying to change a tuple's contents will throw an exception.\n",
    "# You can specify a tuple by using parentheses (or nothing) instead of square brackets.\n",
    "\n",
    "x = (1, 2, 3)\n",
    "\n",
    "try:\n",
    "    x[0] = 1\n",
    "except TypeError: \n",
    "    print \"You can't change the value of a tuple!\"\n",
    "    \n",
    "# You can use a tuple to return multiple values from functions.\n",
    "\n",
    "def sum_and_product(x, y):\n",
    "    return (x + y), (x * y)\n",
    "\n",
    "print sum_and_product(2, 3)\n",
    "s, p = sum_and_product(4, 5)\n",
    "print s\n",
    "print p\n",
    "\n",
    "# Tuples and lists can be used for multiple assignments.\n",
    "x, y = 1, 2\n",
    "x, y = y, x    # The Pythonic way of swapping variables."
   ]
  },
  {
   "cell_type": "markdown",
   "metadata": {},
   "source": [
    "To Add:\n",
    "\n",
    "* Exceptions"
   ]
  },
  {
   "cell_type": "code",
   "execution_count": null,
   "metadata": {
    "collapsed": true
   },
   "outputs": [],
   "source": []
  },
  {
   "cell_type": "code",
   "execution_count": null,
   "metadata": {
    "collapsed": true
   },
   "outputs": [],
   "source": []
  }
 ],
 "metadata": {
  "kernelspec": {
   "display_name": "Python 2",
   "language": "python",
   "name": "python2"
  },
  "language_info": {
   "codemirror_mode": {
    "name": "ipython",
    "version": 2
   },
   "file_extension": ".py",
   "mimetype": "text/x-python",
   "name": "python",
   "nbconvert_exporter": "python",
   "pygments_lexer": "ipython2",
   "version": "2.7.10"
  }
 },
 "nbformat": 4,
 "nbformat_minor": 2
}
